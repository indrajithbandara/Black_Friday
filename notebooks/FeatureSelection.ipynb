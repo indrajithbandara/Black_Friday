{
 "cells": [
  {
   "cell_type": "code",
   "execution_count": 89,
   "metadata": {
    "collapsed": true
   },
   "outputs": [],
   "source": [
    "%matplotlib inline\n",
    "\n",
    "\n",
    "import pandas as pd\n",
    "import numpy as np\n",
    "import os\n",
    "\n",
    "import matplotlib.pyplot as plt\n",
    "import seaborn as sns\n",
    "\n",
    "\n",
    "from sklearn.preprocessing import LabelEncoder\n",
    "from sklearn.metrics import mean_squared_error, make_scorer\n",
    "from sklearn.cross_validation import KFold, train_test_split\n",
    "from sklearn.feature_selection import RFECV\n",
    "from sklearn.linear_model import LinearRegression\n",
    "from sklearn.ensemble import RandomForestRegressor\n",
    "\n",
    "import warnings\n",
    "warnings.filterwarnings('ignore')\n",
    "\n",
    "DATA_DIR = '../data/raw'"
   ]
  },
  {
   "cell_type": "code",
   "execution_count": 47,
   "metadata": {
    "collapsed": true
   },
   "outputs": [],
   "source": [
    "def scorer_func(y_true, y_pred):\n",
    "    return np.sqrt(mean_squared_error(y_true, y_pred))\n",
    "\n",
    "rmse = make_scorer(scorer_func, greater_is_better=False)"
   ]
  },
  {
   "cell_type": "code",
   "execution_count": 37,
   "metadata": {
    "collapsed": true
   },
   "outputs": [],
   "source": [
    "# load files\n",
    "train = pd.read_csv(os.path.join(DATA_DIR, 'train.csv'))\n",
    "test = pd.read_csv(os.path.join(DATA_DIR, 'test-comb.csv'))\n",
    "sub = pd.read_csv(os.path.join(DATA_DIR, 'Sample_Submission_Tm9Lura.csv'))\n",
    "\n",
    "# concatenate train and test files\n",
    "data = pd.concat([train, test], axis=0)"
   ]
  },
  {
   "cell_type": "markdown",
   "metadata": {},
   "source": [
    "## Encode categorical variables to numerical variables"
   ]
  },
  {
   "cell_type": "code",
   "execution_count": 38,
   "metadata": {
    "collapsed": true
   },
   "outputs": [],
   "source": [
    "def encode_categorical_to_numerical(train, test):\n",
    "    \n",
    "    train_ = train.copy()\n",
    "    test_ = test.copy()\n",
    "    \n",
    "    encoders_train = {}\n",
    "    encoders_test = {}\n",
    "    \n",
    "    for column in train.columns[:-1]:\n",
    "        if train[column].dtype == np.object:\n",
    "            lbl = LabelEncoder()\n",
    "            encoders_train[column] = lbl.fit_transform(train[column])\n",
    "            train_[column] = lbl.transform(train[column])\n",
    "            \n",
    "            lbl = LabelEncoder()\n",
    "            encoders_test[column] = lbl.fit_transform(test[column])\n",
    "            test_[column] = lbl.transform(test[column])\n",
    "    \n",
    "    return train_, test_, encoders_train, encoders_test"
   ]
  },
  {
   "cell_type": "code",
   "execution_count": 41,
   "metadata": {
    "collapsed": false
   },
   "outputs": [],
   "source": [
    "train_, test_, encoders_train, encoders_test = encode_categorical_to_numerical(train, test) "
   ]
  },
  {
   "cell_type": "code",
   "execution_count": 42,
   "metadata": {
    "collapsed": false
   },
   "outputs": [],
   "source": [
    "train_['Product_Category_2'] = train_.Product_Category_2.fillna(8.0) # 8.0 is the most common value\n",
    "train_['Product_Category_3'] = train_.Product_Category_3.fillna(16.0) # 16.0 is the most common value\n",
    "\n",
    "test_['Product_Category_2'] = test_.Product_Category_2.fillna(8.0) # 8.0 is the most common value\n",
    "test_['Product_Category_3'] = test_.Product_Category_3.fillna(16.0) # 16.0 is the most common value"
   ]
  },
  {
   "cell_type": "code",
   "execution_count": 43,
   "metadata": {
    "collapsed": false
   },
   "outputs": [],
   "source": [
    "features = ['User_ID', 'Product_ID', 'Gender', 'Age', 'Occupation', 'City_Category', \\\n",
    "           'Stay_In_Current_City_Years', 'Marital_Status', 'Product_Category_1',\\\n",
    "           'Product_Category_2', 'Product_Category_3']\n",
    "\n",
    "X = train_[features]\n",
    "y = train_.Purchase"
   ]
  },
  {
   "cell_type": "markdown",
   "metadata": {},
   "source": [
    "### Recursive Feature Selection"
   ]
  },
  {
   "cell_type": "code",
   "execution_count": 48,
   "metadata": {
    "collapsed": false
   },
   "outputs": [
    {
     "data": {
      "text/plain": [
       "RFECV(cv=sklearn.cross_validation.KFold(n=550068, n_folds=3, shuffle=False, random_state=None),\n",
       "   estimator=LinearRegression(copy_X=True, fit_intercept=True, n_jobs=1, normalize=False),\n",
       "   estimator_params=None,\n",
       "   scoring=make_scorer(scorer_func, greater_is_better=False), step=1,\n",
       "   verbose=0)"
      ]
     },
     "execution_count": 48,
     "metadata": {},
     "output_type": "execute_result"
    }
   ],
   "source": [
    "est = LinearRegression() # linear model\n",
    "\n",
    "rfecv = RFECV(estimator=est, step=1, cv=KFold(len(X), n_folds=3), scoring=rmse)\n",
    "rfecv.fit(X, y)"
   ]
  },
  {
   "cell_type": "code",
   "execution_count": 49,
   "metadata": {
    "collapsed": false
   },
   "outputs": [
    {
     "name": "stdout",
     "output_type": "stream",
     "text": [
      "Optimal number of features : 10\n"
     ]
    },
    {
     "data": {
      "image/png": "[encoded data removed]",
      "text/plain": [
       "<matplotlib.figure.Figure at 0x7f758faefef0>"
      ]
     },
     "metadata": {},
     "output_type": "display_data"
    }
   ],
   "source": [
    "print(\"Optimal number of features : %d\" % rfecv.n_features_)\n",
    "\n",
    "# Plot number of features VS. cross-validation scores\n",
    "plt.figure()\n",
    "plt.xlabel(\"Number of features selected\")\n",
    "plt.ylabel(\"Cross validation score (nb of correct classifications)\")\n",
    "plt.plot(range(1, len(rfecv.grid_scores_) + 1), rfecv.grid_scores_)\n",
    "plt.show();"
   ]
  },
  {
   "cell_type": "markdown",
   "metadata": {},
   "source": [
    "## Custom Recursive Feature Elimination"
   ]
  },
  {
   "cell_type": "code",
   "execution_count": 104,
   "metadata": {
    "collapsed": false
   },
   "outputs": [],
   "source": [
    "class CustomRFE(object):\n",
    "    def __init__(self, est, scoring):\n",
    "        self.est = est\n",
    "        self.scoring = scoring\n",
    "        \n",
    "    def fit(self, X, y):\n",
    "        # iteratively remove a single feature from the total feature set\n",
    "        # store the rmse against the index of the feature removed from the feature set\n",
    "        \n",
    "        self.grid_scores = np.zeros(X.shape[1])\n",
    "        features_to_remove = []\n",
    "        \n",
    "        for i in range(X.shape[1]):\n",
    "            features_to_remove.append(i)\n",
    "            X_ = np.delete(X.values, features_to_remove, axis=1)\n",
    "            \n",
    "            rmse = 0\n",
    "            counter = 0\n",
    "            \n",
    "            cv = KFold(len(X_), n_folds=3)\n",
    "            \n",
    "            for train_index, test_index in cv:\n",
    "                X_train, X_test = X_[train_index], X_[test_index]\n",
    "                y_train, y_test = y.iloc[train_index], y.iloc[test_index]\n",
    "                \n",
    "                self.est.fit(X_train, y_train)\n",
    "                y_pred = self.est.predict(X_test)\n",
    "                \n",
    "                rmse += -self.scoring(y_test, y_pred)\n",
    "                counter += 1\n",
    "                \n",
    "            self.grid_scores[(X.shape[1] - len(features_to_remove))] = rmse / counter"
   ]
  },
  {
   "cell_type": "code",
   "execution_count": 105,
   "metadata": {
    "collapsed": false
   },
   "outputs": [],
   "source": [
    "rf_est = RandomForestRegressor(n_jobs=-1)\n",
    "customrfe = CustomRFE(rf_est, scoring=scorer_func)\n",
    "customrfe.fit(X, y)"
   ]
  },
  {
   "cell_type": "code",
   "execution_count": 106,
   "metadata": {
    "collapsed": false
   },
   "outputs": [
    {
     "data": {
      "text/plain": [
       "array([    0.        , -4806.08395604, -4489.1756411 , -2959.26927966,\n",
       "       -2960.05538616, -2966.92485317, -2971.55619458, -3090.91403448,\n",
       "       -3104.18072465, -3102.77552304, -2974.06797462])"
      ]
     },
     "execution_count": 106,
     "metadata": {},
     "output_type": "execute_result"
    }
   ],
   "source": [
    "customrfe.grid_scores"
   ]
  },
  {
   "cell_type": "code",
   "execution_count": 109,
   "metadata": {
    "collapsed": true
   },
   "outputs": [],
   "source": [
    "X_train, X_test, y_train, y_test = train_test_split(X[X.columns[8:]], y, test_size=0.2, random_state=44)"
   ]
  },
  {
   "cell_type": "code",
   "execution_count": 110,
   "metadata": {
    "collapsed": false
   },
   "outputs": [
    {
     "name": "stdout",
     "output_type": "stream",
     "text": [
      "RMSE:  2942.46255527\n"
     ]
    }
   ],
   "source": [
    "rf_est.fit(X_train, y_train)\n",
    "y_pred = rf_est.predict(X_test)\n",
    "print('RMSE: ', scorer_func(y_test, y_pred))"
   ]
  },
  {
   "cell_type": "code",
   "execution_count": 112,
   "metadata": {
    "collapsed": false
   },
   "outputs": [
    {
     "data": {
      "text/plain": [
       "RandomForestRegressor(bootstrap=True, criterion='mse', max_depth=None,\n",
       "           max_features='auto', max_leaf_nodes=None, min_samples_leaf=1,\n",
       "           min_samples_split=2, min_weight_fraction_leaf=0.0,\n",
       "           n_estimators=10, n_jobs=-1, oob_score=False, random_state=None,\n",
       "           verbose=0, warm_start=False)"
      ]
     },
     "execution_count": 112,
     "metadata": {},
     "output_type": "execute_result"
    }
   ],
   "source": [
    "rf_est.fit(X[X.columns[8:]], y)"
   ]
  },
  {
   "cell_type": "code",
   "execution_count": 118,
   "metadata": {
    "collapsed": false
   },
   "outputs": [],
   "source": [
    "preds = rf_est.predict(test_[X.columns[8:]])"
   ]
  },
  {
   "cell_type": "code",
   "execution_count": 120,
   "metadata": {
    "collapsed": false
   },
   "outputs": [],
   "source": [
    "sub['User_ID'] = test.User_ID.values\n",
    "sub['Product_ID'] = test.Product_ID.values\n",
    "sub['Purchase'] = preds"
   ]
  },
  {
   "cell_type": "code",
   "execution_count": 121,
   "metadata": {
    "collapsed": true
   },
   "outputs": [],
   "source": [
    "sub.to_csv('../submissions/rfecv.csv', index=False)"
   ]
  },
  {
   "cell_type": "code",
   "execution_count": null,
   "metadata": {
    "collapsed": true
   },
   "outputs": [],
   "source": []
  }
 ],
 "metadata": {
  "anaconda-cloud": {},
  "kernelspec": {
   "display_name": "Python [Root]",
   "language": "python",
   "name": "Python [Root]"
  },
  "language_info": {
   "codemirror_mode": {
    "name": "ipython",
    "version": 3
   },
   "file_extension": ".py",
   "mimetype": "text/x-python",
   "name": "python",
   "nbconvert_exporter": "python",
   "pygments_lexer": "ipython3",
   "version": "3.5.2"
  }
 },
 "nbformat": 4,
 "nbformat_minor": 0
}
