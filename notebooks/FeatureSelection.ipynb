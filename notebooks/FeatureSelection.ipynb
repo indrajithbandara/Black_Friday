{
 "cells": [
  {
   "cell_type": "code",
   "execution_count": 1,
   "metadata": {
    "collapsed": true
   },
   "outputs": [],
   "source": [
    "%matplotlib inline\n",
    "\n",
    "\n",
    "import pandas as pd\n",
    "import numpy as np\n",
    "import os\n",
    "\n",
    "import matplotlib.pyplot as plt\n",
    "import seaborn as sns\n",
    "\n",
    "\n",
    "from sklearn.preprocessing import LabelEncoder\n",
    "from sklearn.metrics import mean_squared_error, make_scorer\n",
    "from sklearn.cross_validation import KFold, train_test_split, cross_val_score\n",
    "from sklearn.feature_selection import RFECV\n",
    "from sklearn.linear_model import LinearRegression\n",
    "from sklearn.ensemble import RandomForestRegressor, ExtraTreesRegressor\n",
    "\n",
    "import warnings\n",
    "warnings.filterwarnings('ignore')\n",
    "\n",
    "pd.set_option('display.width', 500)\n",
    "pd.set_option('display.max_columns', 100)\n",
    "pd.set_option('display.notebook_repr_html', True)\n",
    "\n",
    "sns.set_style(\"whitegrid\")\n",
    "sns.set_context(\"poster\")\n",
    "\n",
    "DATA_DIR = '../data/raw'"
   ]
  },
  {
   "cell_type": "code",
   "execution_count": 2,
   "metadata": {
    "collapsed": true
   },
   "outputs": [],
   "source": [
    "# RMSE scorer function\n",
    "\n",
    "def scorer_func(y_true, y_pred):\n",
    "    return np.sqrt(mean_squared_error(y_true, y_pred))\n",
    "\n",
    "rmse = make_scorer(scorer_func, greater_is_better=False)"
   ]
  },
  {
   "cell_type": "code",
   "execution_count": 3,
   "metadata": {
    "collapsed": true
   },
   "outputs": [],
   "source": [
    "# load files\n",
    "train = pd.read_csv(os.path.join(DATA_DIR, 'train.csv'))\n",
    "test = pd.read_csv(os.path.join(DATA_DIR, 'test-comb.csv'))\n",
    "sub = pd.read_csv(os.path.join(DATA_DIR, 'Sample_Submission_Tm9Lura.csv'))\n",
    "\n",
    "# concatenate train and test files\n",
    "data = pd.concat([train, test], axis=0)"
   ]
  },
  {
   "cell_type": "markdown",
   "metadata": {},
   "source": [
    "## Encode categorical variables to numerical variables"
   ]
  },
  {
   "cell_type": "code",
   "execution_count": 4,
   "metadata": {
    "collapsed": true
   },
   "outputs": [],
   "source": [
    "def encode_categorical_to_numerical(train, test):\n",
    "    \n",
    "    train_ = train.copy()\n",
    "    test_ = test.copy()\n",
    "    \n",
    "    encoders_train = {}\n",
    "    encoders_test = {}\n",
    "    \n",
    "    for column in train.columns[:-1]:\n",
    "        if train[column].dtype == np.object:\n",
    "            lbl = LabelEncoder()\n",
    "            encoders_train[column] = lbl.fit_transform(train[column])\n",
    "            train_[column] = lbl.transform(train[column])\n",
    "            \n",
    "            lbl = LabelEncoder()\n",
    "            encoders_test[column] = lbl.fit_transform(test[column])\n",
    "            test_[column] = lbl.transform(test[column])\n",
    "    \n",
    "    return train_, test_, encoders_train, encoders_test"
   ]
  },
  {
   "cell_type": "code",
   "execution_count": 5,
   "metadata": {
    "collapsed": false
   },
   "outputs": [],
   "source": [
    "train_, test_, encoders_train, encoders_test = encode_categorical_to_numerical(train, test) "
   ]
  },
  {
   "cell_type": "code",
   "execution_count": 6,
   "metadata": {
    "collapsed": false
   },
   "outputs": [],
   "source": [
    "train_['Product_Category_2'] = train_.Product_Category_2.fillna(8.0) # 8.0 is the most common value\n",
    "train_['Product_Category_3'] = train_.Product_Category_3.fillna(16.0) # 16.0 is the most common value\n",
    "\n",
    "test_['Product_Category_2'] = test_.Product_Category_2.fillna(8.0) # 8.0 is the most common value\n",
    "test_['Product_Category_3'] = test_.Product_Category_3.fillna(16.0) # 16.0 is the most common value"
   ]
  },
  {
   "cell_type": "code",
   "execution_count": 7,
   "metadata": {
    "collapsed": false
   },
   "outputs": [],
   "source": [
    "features = ['User_ID', 'Product_ID', 'Gender', 'Age', 'Occupation', 'City_Category', \\\n",
    "           'Stay_In_Current_City_Years', 'Marital_Status', 'Product_Category_1',\\\n",
    "           'Product_Category_2', 'Product_Category_3']\n",
    "\n",
    "X = train_[features]\n",
    "y = train_.Purchase"
   ]
  },
  {
   "cell_type": "markdown",
   "metadata": {},
   "source": [
    "### Recursive Feature Selection"
   ]
  },
  {
   "cell_type": "code",
   "execution_count": 48,
   "metadata": {
    "collapsed": false
   },
   "outputs": [
    {
     "data": {
      "text/plain": [
       "RFECV(cv=sklearn.cross_validation.KFold(n=550068, n_folds=3, shuffle=False, random_state=None),\n",
       "   estimator=LinearRegression(copy_X=True, fit_intercept=True, n_jobs=1, normalize=False),\n",
       "   estimator_params=None,\n",
       "   scoring=make_scorer(scorer_func, greater_is_better=False), step=1,\n",
       "   verbose=0)"
      ]
     },
     "execution_count": 48,
     "metadata": {},
     "output_type": "execute_result"
    }
   ],
   "source": [
    "est = LinearRegression() # linear model\n",
    "\n",
    "rfecv = RFECV(estimator=est, step=1, cv=KFold(len(X), n_folds=3), scoring=rmse)\n",
    "rfecv.fit(X, y)"
   ]
  },
  {
   "cell_type": "code",
   "execution_count": 49,
   "metadata": {
    "collapsed": false
   },
   "outputs": [
    {
     "name": "stdout",
     "output_type": "stream",
     "text": [
      "Optimal number of features : 10\n"
     ]
    },
    {
     "data": {
      "image/png": "[encoded data removed]",
      "text/plain": [
       "<matplotlib.figure.Figure at 0x7f758faefef0>"
      ]
     },
     "metadata": {},
     "output_type": "display_data"
    }
   ],
   "source": [
    "print(\"Optimal number of features : %d\" % rfecv.n_features_)\n",
    "\n",
    "# Plot number of features VS. cross-validation scores\n",
    "plt.figure()\n",
    "plt.xlabel(\"Number of features selected\")\n",
    "plt.ylabel(\"Cross validation score (nb of correct classifications)\")\n",
    "plt.plot(range(1, len(rfecv.grid_scores_) + 1), rfecv.grid_scores_)\n",
    "plt.show();"
   ]
  },
  {
   "cell_type": "markdown",
   "metadata": {},
   "source": [
    "## Custom Recursive Feature Elimination"
   ]
  },
  {
   "cell_type": "code",
   "execution_count": 104,
   "metadata": {
    "collapsed": false
   },
   "outputs": [],
   "source": [
    "class CustomRFE(object):\n",
    "    def __init__(self, est, scoring):\n",
    "        self.est = est\n",
    "        self.scoring = scoring\n",
    "        \n",
    "    def fit(self, X, y):\n",
    "        # iteratively remove a single feature from the total feature set\n",
    "        # store the rmse against the index of the feature removed from the feature set\n",
    "        \n",
    "        self.grid_scores = np.zeros(X.shape[1])\n",
    "        features_to_remove = []\n",
    "        \n",
    "        for i in range(X.shape[1]):\n",
    "            features_to_remove.append(i)\n",
    "            X_ = np.delete(X.values, features_to_remove, axis=1)\n",
    "            \n",
    "            rmse = 0\n",
    "            counter = 0\n",
    "            \n",
    "            cv = KFold(len(X_), n_folds=3)\n",
    "            \n",
    "            for train_index, test_index in cv:\n",
    "                X_train, X_test = X_[train_index], X_[test_index]\n",
    "                y_train, y_test = y.iloc[train_index], y.iloc[test_index]\n",
    "                \n",
    "                self.est.fit(X_train, y_train)\n",
    "                y_pred = self.est.predict(X_test)\n",
    "                \n",
    "                rmse += -self.scoring(y_test, y_pred)\n",
    "                counter += 1\n",
    "                \n",
    "            self.grid_scores[(X.shape[1] - len(features_to_remove))] = rmse / counter"
   ]
  },
  {
   "cell_type": "code",
   "execution_count": 105,
   "metadata": {
    "collapsed": false
   },
   "outputs": [],
   "source": [
    "rf_est = RandomForestRegressor(n_jobs=-1)\n",
    "customrfe = CustomRFE(rf_est, scoring=scorer_func)\n",
    "customrfe.fit(X, y)"
   ]
  },
  {
   "cell_type": "code",
   "execution_count": 106,
   "metadata": {
    "collapsed": false
   },
   "outputs": [
    {
     "data": {
      "text/plain": [
       "array([    0.        , -4806.08395604, -4489.1756411 , -2959.26927966,\n",
       "       -2960.05538616, -2966.92485317, -2971.55619458, -3090.91403448,\n",
       "       -3104.18072465, -3102.77552304, -2974.06797462])"
      ]
     },
     "execution_count": 106,
     "metadata": {},
     "output_type": "execute_result"
    }
   ],
   "source": [
    "customrfe.grid_scores"
   ]
  },
  {
   "cell_type": "markdown",
   "metadata": {},
   "source": [
    "## Split dataset based on informative features"
   ]
  },
  {
   "cell_type": "code",
   "execution_count": 9,
   "metadata": {
    "collapsed": true
   },
   "outputs": [],
   "source": [
    "X_train, X_test, y_train, y_test = train_test_split(X[X.columns[8:]], y, test_size=0.2, random_state=44)"
   ]
  },
  {
   "cell_type": "code",
   "execution_count": 110,
   "metadata": {
    "collapsed": false
   },
   "outputs": [
    {
     "name": "stdout",
     "output_type": "stream",
     "text": [
      "RMSE:  2942.46255527\n"
     ]
    }
   ],
   "source": [
    "# fit on X_train, y_train\n",
    "\n",
    "rf_est.fit(X_train, y_train)\n",
    "y_pred = rf_est.predict(X_test)\n",
    "print('RMSE: ', scorer_func(y_test, y_pred))"
   ]
  },
  {
   "cell_type": "code",
   "execution_count": 112,
   "metadata": {
    "collapsed": false
   },
   "outputs": [
    {
     "data": {
      "text/plain": [
       "RandomForestRegressor(bootstrap=True, criterion='mse', max_depth=None,\n",
       "           max_features='auto', max_leaf_nodes=None, min_samples_leaf=1,\n",
       "           min_samples_split=2, min_weight_fraction_leaf=0.0,\n",
       "           n_estimators=10, n_jobs=-1, oob_score=False, random_state=None,\n",
       "           verbose=0, warm_start=False)"
      ]
     },
     "execution_count": 112,
     "metadata": {},
     "output_type": "execute_result"
    }
   ],
   "source": [
    "rf_est.fit(X[X.columns[8:]], y)"
   ]
  },
  {
   "cell_type": "code",
   "execution_count": 118,
   "metadata": {
    "collapsed": false
   },
   "outputs": [],
   "source": [
    "preds = rf_est.predict(test_[X.columns[8:]])"
   ]
  },
  {
   "cell_type": "markdown",
   "metadata": {},
   "source": [
    "## Feature Importance ( Random Forest )"
   ]
  },
  {
   "cell_type": "code",
   "execution_count": 8,
   "metadata": {
    "collapsed": true
   },
   "outputs": [],
   "source": [
    "X_train, X_test, y_train, y_test = train_test_split(X, y, test_size=0.2, random_state=45)"
   ]
  },
  {
   "cell_type": "code",
   "execution_count": 9,
   "metadata": {
    "collapsed": false
   },
   "outputs": [
    {
     "data": {
      "text/plain": [
       "ExtraTreesRegressor(bootstrap=False, criterion='mse', max_depth=None,\n",
       "          max_features='auto', max_leaf_nodes=None, min_samples_leaf=1,\n",
       "          min_samples_split=2, min_weight_fraction_leaf=0.0,\n",
       "          n_estimators=10, n_jobs=-1, oob_score=False, random_state=44,\n",
       "          verbose=0, warm_start=False)"
      ]
     },
     "execution_count": 9,
     "metadata": {},
     "output_type": "execute_result"
    }
   ],
   "source": [
    "forest = ExtraTreesRegressor(random_state=44, n_jobs=-1)\n",
    "forest.fit(X_train, y_train)"
   ]
  },
  {
   "cell_type": "code",
   "execution_count": 10,
   "metadata": {
    "collapsed": false
   },
   "outputs": [
    {
     "name": "stdout",
     "output_type": "stream",
     "text": [
      "Feature ranking:\n",
      "1. feature 8 (0.581998)\n",
      "2. feature 1 (0.102731)\n",
      "3. feature 0 (0.076159)\n",
      "4. feature 4 (0.054416)\n",
      "5. feature 9 (0.041355)\n",
      "6. feature 6 (0.039156)\n",
      "7. feature 3 (0.035152)\n",
      "8. feature 10 (0.034072)\n",
      "9. feature 7 (0.013355)\n",
      "10. feature 5 (0.011266)\n",
      "11. feature 2 (0.010339)\n"
     ]
    },
    {
     "data": {
      "image/png": "[encoded data removed]",
      "text/plain": [
       "<matplotlib.figure.Figure at 0x7fd0d6d6ec88>"
      ]
     },
     "metadata": {},
     "output_type": "display_data"
    }
   ],
   "source": [
    "importances = forest.feature_importances_\n",
    "\n",
    "std = np.std([tree.feature_importances_ for tree in forest.estimators_],\n",
    "             axis=0)\n",
    "indices = np.argsort(importances)[::-1]\n",
    "\n",
    "# Print the feature ranking\n",
    "print(\"Feature ranking:\")\n",
    "\n",
    "for f in range(X_train.shape[1]):\n",
    "    print(\"%d. feature %d (%f)\" % (f + 1, indices[f], importances[indices[f]]))\n",
    "\n",
    "# Plot the feature importances of the forest\n",
    "plt.figure()\n",
    "plt.title(\"Feature importances\")\n",
    "plt.bar(range(X_train.shape[1]), importances[indices],\n",
    "       color=\"r\", yerr=std[indices], align=\"center\")\n",
    "plt.xticks(range(X_train.shape[1]), indices)\n",
    "plt.xlim([-1, X_train.shape[1]])\n",
    "plt.show();"
   ]
  },
  {
   "cell_type": "markdown",
   "metadata": {},
   "source": [
    "** Feature 8 is the Product_Category_1, which is considered to be the most important variable. **"
   ]
  },
  {
   "cell_type": "markdown",
   "metadata": {},
   "source": [
    "### Validate whether these are useful features or not"
   ]
  },
  {
   "cell_type": "code",
   "execution_count": 24,
   "metadata": {
    "collapsed": false
   },
   "outputs": [],
   "source": [
    "rf_features = ['User_ID', 'Product_ID', 'Product_Category_1', 'Occupation', 'Stay_In_Current_City_Years', 'Age']\n",
    "\n",
    "X_train_sub = X_train[rf_features]\n",
    "X_test_sub = X_test[rf_features]"
   ]
  },
  {
   "cell_type": "code",
   "execution_count": null,
   "metadata": {
    "collapsed": true
   },
   "outputs": [],
   "source": [
    "rf_est = RandomForestRegressor(n_jobs=-1, random_state=23)\n",
    "cv_scores = cross_val_score(rf_est, X_train_sub, y_train, scoring=rmse, cv=KFold(len(X_train_sub), n_folds=3), n_jobs=-1)"
   ]
  },
  {
   "cell_type": "code",
   "execution_count": 20,
   "metadata": {
    "collapsed": false
   },
   "outputs": [
    {
     "name": "stdout",
     "output_type": "stream",
     "text": [
      "cross validation scores:  [-3163.79338215 -3163.06635711 -3159.24960525]\n"
     ]
    }
   ],
   "source": [
    "print('cross validation scores: ', cv_scores)"
   ]
  },
  {
   "cell_type": "code",
   "execution_count": 22,
   "metadata": {
    "collapsed": false
   },
   "outputs": [
    {
     "name": "stdout",
     "output_type": "stream",
     "text": [
      "RMSE on unseen examples: 2848.211994\n"
     ]
    }
   ],
   "source": [
    "# include all the features\n",
    "rf_est.fit(X_train, y_train)\n",
    "y_pred = rf_est.predict(X_test)\n",
    "\n",
    "print('RMSE on unseen examples: %f'%(scorer_func(y_test, y_pred)))"
   ]
  },
  {
   "cell_type": "code",
   "execution_count": 25,
   "metadata": {
    "collapsed": false
   },
   "outputs": [
    {
     "name": "stdout",
     "output_type": "stream",
     "text": [
      "RMSE on unseen examples: 2908.295189\n"
     ]
    }
   ],
   "source": [
    "# include features that are considered to be useful\n",
    "rf_est.fit(X_train_sub, y_train)\n",
    "y_pred = rf_est.predict(X_test_sub)\n",
    "\n",
    "print('RMSE on unseen examples: %f'%(scorer_func(y_test, y_pred)))"
   ]
  },
  {
   "cell_type": "markdown",
   "metadata": {},
   "source": [
    "## Feature Engineering"
   ]
  },
  {
   "cell_type": "markdown",
   "metadata": {},
   "source": [
    "** Since Product_Category_1 is the most important feature, we can create new features based on this feature. **"
   ]
  },
  {
   "cell_type": "code",
   "execution_count": 53,
   "metadata": {
    "collapsed": false
   },
   "outputs": [],
   "source": [
    "X_engineered = X.copy()"
   ]
  },
  {
   "cell_type": "code",
   "execution_count": 54,
   "metadata": {
    "collapsed": true
   },
   "outputs": [],
   "source": [
    "X_engineered['product_category_1_count'] = X_engineered.groupby('Product_ID')['Product_Category_1'].transform(lambda x: len(x))"
   ]
  },
  {
   "cell_type": "code",
   "execution_count": 55,
   "metadata": {
    "collapsed": true
   },
   "outputs": [],
   "source": [
    "features = ['Product_Category_1', 'Product_Category_2', 'Product_Category_3', 'product_category_1_count']\n",
    "X_train, X_test, y_train, y_test = train_test_split(X_engineered[features], y, test_size=0.2, random_state=423)"
   ]
  },
  {
   "cell_type": "code",
   "execution_count": 20,
   "metadata": {
    "collapsed": false
   },
   "outputs": [
    {
     "data": {
      "text/plain": [
       "ExtraTreesRegressor(bootstrap=False, criterion='mse', max_depth=None,\n",
       "          max_features='auto', max_leaf_nodes=None, min_samples_leaf=1,\n",
       "          min_samples_split=2, min_weight_fraction_leaf=0.0,\n",
       "          n_estimators=10, n_jobs=-1, oob_score=False, random_state=44,\n",
       "          verbose=0, warm_start=False)"
      ]
     },
     "execution_count": 20,
     "metadata": {},
     "output_type": "execute_result"
    }
   ],
   "source": [
    "forest = ExtraTreesRegressor(random_state=44, n_jobs=-1)\n",
    "forest.fit(X_train, y_train)"
   ]
  },
  {
   "cell_type": "code",
   "execution_count": 21,
   "metadata": {
    "collapsed": false,
    "scrolled": false
   },
   "outputs": [
    {
     "name": "stdout",
     "output_type": "stream",
     "text": [
      "Feature ranking:\n",
      "1. feature 8 (0.533048)\n",
      "2. feature 11 (0.090582)\n",
      "3. feature 0 (0.077138)\n",
      "4. feature 9 (0.067943)\n",
      "5. feature 4 (0.056437)\n",
      "6. feature 6 (0.040553)\n",
      "7. feature 1 (0.037383)\n",
      "8. feature 3 (0.036602)\n",
      "9. feature 5 (0.018430)\n",
      "10. feature 10 (0.017099)\n",
      "11. feature 7 (0.014498)\n",
      "12. feature 2 (0.010289)\n"
     ]
    },
    {
     "data": {
      "image/png": "[encoded data removed]",
      "text/plain": [
       "<matplotlib.figure.Figure at 0x7fd0d66ae630>"
      ]
     },
     "metadata": {},
     "output_type": "display_data"
    }
   ],
   "source": [
    "importances = forest.feature_importances_\n",
    "\n",
    "std = np.std([tree.feature_importances_ for tree in forest.estimators_],\n",
    "             axis=0)\n",
    "indices = np.argsort(importances)[::-1]\n",
    "\n",
    "# Print the feature ranking\n",
    "print(\"Feature ranking:\")\n",
    "\n",
    "for f in range(X_train.shape[1]):\n",
    "    print(\"%d. feature %d (%f)\" % (f + 1, indices[f], importances[indices[f]]))\n",
    "\n",
    "# Plot the feature importances of the forest\n",
    "plt.figure()\n",
    "plt.title(\"Feature importances\")\n",
    "plt.bar(range(X_train.shape[1]), importances[indices],\n",
    "       color=\"r\", yerr=std[indices], align=\"center\")\n",
    "plt.xticks(range(X_train.shape[1]), indices)\n",
    "plt.xlim([-1, X_train.shape[1]])\n",
    "plt.show();"
   ]
  },
  {
   "cell_type": "markdown",
   "metadata": {},
   "source": [
    "** Feature we have just created is actually important. **"
   ]
  },
  {
   "cell_type": "code",
   "execution_count": 65,
   "metadata": {
    "collapsed": false
   },
   "outputs": [],
   "source": [
    "forest = RandomForestRegressor(n_estimators=75, max_depth=25, n_jobs=-1, random_state=123)\n",
    "cv_scores = cross_val_score(forest, X_train, y_train, cv=KFold(len(X_train), n_folds=3), scoring=rmse, n_jobs=-1)"
   ]
  },
  {
   "cell_type": "code",
   "execution_count": 66,
   "metadata": {
    "collapsed": false
   },
   "outputs": [
    {
     "name": "stdout",
     "output_type": "stream",
     "text": [
      "Cross Validation Scores:  [-2682.7954965  -2675.1358888  -2677.95450661]\n"
     ]
    }
   ],
   "source": [
    "print('Cross Validation Scores: ', cv_scores)"
   ]
  },
  {
   "cell_type": "code",
   "execution_count": 67,
   "metadata": {
    "collapsed": false
   },
   "outputs": [
    {
     "name": "stdout",
     "output_type": "stream",
     "text": [
      "RMSE: 2689.817674\n"
     ]
    }
   ],
   "source": [
    "forest.fit(X_train, y_train)\n",
    "y_preds = forest.predict(X_test)\n",
    "print('RMSE: %f'%(scorer_func(y_test, y_preds)))"
   ]
  },
  {
   "cell_type": "markdown",
   "metadata": {},
   "source": [
    "### Add this feature to the test set as well"
   ]
  },
  {
   "cell_type": "code",
   "execution_count": 68,
   "metadata": {
    "collapsed": true
   },
   "outputs": [],
   "source": [
    "test_['product_category_1_count'] = test_.groupby('Product_ID')['Product_Category_1'].transform(lambda x: len(x))"
   ]
  },
  {
   "cell_type": "code",
   "execution_count": 69,
   "metadata": {
    "collapsed": false
   },
   "outputs": [],
   "source": [
    "forest.fit(X_engineered, y)\n",
    "preds = forest.predict(test_[X_engineered.columns])"
   ]
  },
  {
   "cell_type": "markdown",
   "metadata": {},
   "source": [
    "### Submission"
   ]
  },
  {
   "cell_type": "code",
   "execution_count": 70,
   "metadata": {
    "collapsed": false
   },
   "outputs": [],
   "source": [
    "sub['User_ID'] = test.User_ID.values\n",
    "sub['Product_ID'] = test.Product_ID.values\n",
    "sub['Purchase'] = preds"
   ]
  },
  {
   "cell_type": "code",
   "execution_count": 71,
   "metadata": {
    "collapsed": true
   },
   "outputs": [],
   "source": [
    "sub.to_csv('../submissions/new_feature.csv', index=False)"
   ]
  },
  {
   "cell_type": "code",
   "execution_count": null,
   "metadata": {
    "collapsed": true
   },
   "outputs": [],
   "source": []
  },
  {
   "cell_type": "code",
   "execution_count": null,
   "metadata": {
    "collapsed": true
   },
   "outputs": [],
   "source": []
  }
 ],
 "metadata": {
  "anaconda-cloud": {},
  "kernelspec": {
   "display_name": "Python [Root]",
   "language": "python",
   "name": "Python [Root]"
  },
  "language_info": {
   "codemirror_mode": {
    "name": "ipython",
    "version": 3
   },
   "file_extension": ".py",
   "mimetype": "text/x-python",
   "name": "python",
   "nbconvert_exporter": "python",
   "pygments_lexer": "ipython3",
   "version": "3.5.2"
  }
 },
 "nbformat": 4,
 "nbformat_minor": 0
}
